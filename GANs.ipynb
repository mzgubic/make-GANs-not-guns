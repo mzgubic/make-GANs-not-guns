{
 "cells": [
  {
   "cell_type": "code",
   "execution_count": null,
   "metadata": {},
   "outputs": [],
   "source": [
    "import numpy as np\n",
    "import matplotlib.pyplot as plt\n",
    "import tensorflow as tf\n",
    "import tensorflow.contrib.layers as layers\n",
    "from sklearn.metrics import roc_auc_score\n",
    "\n",
    "import generate\n",
    "import plot\n",
    "import models\n",
    "import environment\n",
    "\n",
    "from IPython.core.interactiveshell import InteractiveShell\n",
    "InteractiveShell.ast_node_interactivity = \"all\"\n",
    "\n"
   ]
  },
  {
   "cell_type": "markdown",
   "metadata": {},
   "source": [
    "# Real data"
   ]
  },
  {
   "cell_type": "code",
   "execution_count": null,
   "metadata": {},
   "outputs": [],
   "source": [
    "# generate fake results\n",
    "half = 500\n",
    "labels = np.array([1]*half + [0]*half)\n",
    "logits = np.random.uniform(size=2*half)\n",
    "    \n",
    "# make a test plot\n",
    "fig, ax = plt.subplots(1, 2, figsize=(10, 5))\n",
    "plot.data1D(ax[0], generate.triangular1D(100), generate.triangular1D(100))\n",
    "plot.roc_curve(ax[1], labels, logits)\n",
    "plt.show()"
   ]
  },
  {
   "cell_type": "markdown",
   "metadata": {},
   "source": [
    "# Noise distribution"
   ]
  },
  {
   "cell_type": "code",
   "execution_count": null,
   "metadata": {},
   "outputs": [],
   "source": [
    "NOISE_DIM = 3\n",
    "\n",
    "input_noise = generate.input_noise(NOISE_DIM)\n",
    "noise = input_noise(300)\n",
    "\n",
    "fig, ax = plt.subplots(figsize=(5, 5))\n",
    "_ = ax.scatter(noise[:, 0], noise[:, 1], alpha=0.7)\n",
    "_ = ax.set_xlabel('noise dimension 1')\n",
    "_ = ax.set_ylabel('noise dimension 2')\n",
    "plt.show()"
   ]
  },
  {
   "cell_type": "markdown",
   "metadata": {},
   "source": [
    "# Make the graphs and run the computation"
   ]
  },
  {
   "cell_type": "code",
   "execution_count": null,
   "metadata": {},
   "outputs": [],
   "source": [
    "COUNTER = 0"
   ]
  },
  {
   "cell_type": "code",
   "execution_count": null,
   "metadata": {},
   "outputs": [],
   "source": [
    "N_PRE_STEPS = 100\n",
    "N_STEPS = 300\n",
    "N_DRAW = 10\n",
    "COUNTER+=1 # so that new graphs are created each time\n",
    "\n",
    "\n",
    "G = models.GeneratorFullyConnected('Generator_{}'.format(COUNTER), depth=3, n_units=10, output_dim=1)\n",
    "A = models.AdversaryFullyConnected('Adversary_{}'.format(COUNTER), depth=2, n_units=10, n_classes=2)\n",
    "env = environment.TFEnvironment(G, A, generate.triangular1D, generate.input_noise(NOISE_DIM))\n",
    "env.initialise_variables()\n"
   ]
  },
  {
   "cell_type": "code",
   "execution_count": null,
   "metadata": {
    "scrolled": false
   },
   "outputs": [],
   "source": [
    "\n",
    "\n",
    "def get_feed_dict():\n",
    "    real_data = generate.triangular1D(BATCH_SIZE)\n",
    "    input_noise = generate.input_noise(BATCH_SIZE, NOISE_DIM)\n",
    "    return {T_real_data:real_data, T_input_noise:input_noise}\n",
    "\n",
    "# first run the pretraining steps (just the discriminator)\n",
    "aurocs = []\n",
    "losses_A = []\n",
    "for i in range(N_PRE_STEPS):\n",
    "\n",
    "    # prepare the inputs\n",
    "    feed_dict = get_feed_dict()\n",
    "    \n",
    "    # run the computation (discriminator, performance monitoring)\n",
    "    _ = sess.run(T_opt_A, feed_dict=feed_dict)\n",
    "    to_run = [T_fake_data, T_comb_labels, T_logits, T_loss_A]\n",
    "    fake_data, labels, logits, loss_A = sess.run(to_run, feed_dict=feed_dict)\n",
    "    \n",
    "    # plot only N times\n",
    "    aurocs.append(roc_auc_score(labels, logits))\n",
    "    losses_A.append(loss_A)\n",
    "    do_plot = (i in [n* int(N_PRE_STEPS/N_DRAW) for n in range(N_DRAW)]) or (i == N_PRE_STEPS-1)\n",
    "    \n",
    "    if do_plot:\n",
    "        print('Pretraining step {}/{}'.format(i, N_PRE_STEPS))\n",
    "        fig, ax = plt.subplots(1, 2, figsize=(10, 5))\n",
    "        plot.data1D(ax[0], generate.triangular1D(BATCH_SIZE), fake_data.ravel())\n",
    "        plot.roc_curve(ax[1], labels[:,1], logits[:,1])\n",
    "        plt.show()\n",
    "\n",
    "\n",
    "        \n",
    "# now run the training steps, and plot the fake and real data\n",
    "for i in range(N_STEPS):\n",
    "    \n",
    "    # prepare the inputs\n",
    "    feed_dict = get_feed_dict()\n",
    "    \n",
    "    # run the computation (discriminator, generator, performance monitoring)\n",
    "    for _ in range(10):\n",
    "        _ = sess.run(T_opt_A, feed_dict=get_feed_dict())\n",
    "    _ = sess.run(T_opt_G, feed_dict=feed_dict)\n",
    "    to_run = [T_fake_data, T_comb_labels, T_logits, T_loss_A]\n",
    "    fake_data, labels, logits, loss_A = sess.run(to_run, feed_dict=feed_dict)\n",
    "    \n",
    "    # run summary separately\n",
    "    summary = sess.run(merged, feed_dict=feed_dict)\n",
    "    \n",
    "    # store tensorboard\n",
    "    writer.add_summary(summary, i)\n",
    "    \n",
    "    # plot only ten times\n",
    "    aurocs.append(roc_auc_score(labels, logits))\n",
    "    losses_A.append(loss_A)\n",
    "    do_plot = (i in [n* int(N_STEPS/N_DRAW) for n in range(N_DRAW)]) or (i == N_STEPS-1)\n",
    "\n",
    "    if do_plot:\n",
    "        print('Training step {}/{}'.format(i, N_STEPS))\n",
    "        fig, ax = plt.subplots(1, 2, figsize=(10, 5))\n",
    "        plot.data1D(ax[0], generate.triangular1D(BATCH_SIZE), fake_data.ravel())\n",
    "        plot.roc_curve(ax[1], labels[:,1], logits[:,1])\n",
    "        plt.show()\n",
    "    \n",
    "print('Done')\n",
    "    "
   ]
  },
  {
   "cell_type": "code",
   "execution_count": null,
   "metadata": {},
   "outputs": [],
   "source": [
    "nplots=2\n",
    "fig, ax = plt.subplots(1, nplots, sharex=True, figsize=(nplots*6, 5))\n",
    "ax[0].plot(range(len(aurocs)), aurocs, c='r')\n",
    "ax[0].set_xlabel('Training steps')\n",
    "ax[0].set_ylabel('AUROC')\n",
    "ax[1].plot(range(len(losses_A)), losses_A, c='g')\n",
    "ax[1].set_xlabel('Training steps')\n",
    "ax[1].set_ylabel('Adversary loss')\n",
    "plt.show()"
   ]
  },
  {
   "cell_type": "code",
   "execution_count": null,
   "metadata": {},
   "outputs": [],
   "source": []
  },
  {
   "cell_type": "code",
   "execution_count": null,
   "metadata": {},
   "outputs": [],
   "source": []
  }
 ],
 "metadata": {
  "kernelspec": {
   "display_name": "Python (make-GANs-not-guns)",
   "language": "python",
   "name": "make-gans-not-guns"
  },
  "language_info": {
   "codemirror_mode": {
    "name": "ipython",
    "version": 3
   },
   "file_extension": ".py",
   "mimetype": "text/x-python",
   "name": "python",
   "nbconvert_exporter": "python",
   "pygments_lexer": "ipython3",
   "version": "3.6.0"
  }
 },
 "nbformat": 4,
 "nbformat_minor": 2
}
