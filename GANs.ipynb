{
 "cells": [
  {
   "cell_type": "code",
   "execution_count": null,
   "metadata": {},
   "outputs": [],
   "source": [
    "import numpy as np\n",
    "import matplotlib.pyplot as plt\n",
    "import tensorflow as tf\n",
    "import tensorflow.contrib.layers as layers\n",
    "from sklearn.metrics import roc_auc_score\n",
    "\n",
    "import generate\n",
    "import plot\n",
    "import models\n",
    "import environment\n",
    "\n",
    "from IPython.core.interactiveshell import InteractiveShell\n",
    "InteractiveShell.ast_node_interactivity = \"all\"\n",
    "\n"
   ]
  },
  {
   "cell_type": "markdown",
   "metadata": {},
   "source": [
    "# Make the graphs and run the computation"
   ]
  },
  {
   "cell_type": "code",
   "execution_count": null,
   "metadata": {},
   "outputs": [],
   "source": [
    "COUNTER = 0"
   ]
  },
  {
   "cell_type": "code",
   "execution_count": null,
   "metadata": {
    "scrolled": false
   },
   "outputs": [],
   "source": [
    "NOISE_DIM = 3\n",
    "BATCH_SIZE = 512\n",
    "TEST_SIZE = 100000\n",
    "N_PRE_STEPS = 100\n",
    "N_STEPS = 500\n",
    "N_DRAW = 5\n",
    "COUNTER+=1 # so that new graphs are created each time\n",
    "generate_data = generate.triangular1D\n",
    "#generate_data = generate.uniform1D\n",
    "#generate_data = generate.beta1D\n",
    "\n",
    "G = models.GeneratorFullyConnected('Generator_{}'.format(COUNTER), depth=3, n_units=20, output_dim=1)\n",
    "A = models.AdversaryFullyConnected('Adversary_{}'.format(COUNTER), depth=2, n_units=20, n_classes=2)\n",
    "env = environment.TFEnvironment(G, A, generate_data, generate.input_noise(NOISE_DIM))\n",
    "env.build()\n",
    "env.initialise_variables()\n",
    "\n",
    "aurocs = []\n",
    "adv_losses = []\n",
    "for i in range(N_PRE_STEPS):\n",
    "    \n",
    "    # pretraining step\n",
    "    env.pretrain_step(BATCH_SIZE)\n",
    "    \n",
    "    # get analytics\n",
    "    to_run = [env.generator.output, env.adversary.labels, env.adversary.logits, env.adversary.loss]\n",
    "    fake_data, labels, logits, adv_loss = env.run(BATCH_SIZE, *to_run)\n",
    "    \n",
    "    # plot only N times\n",
    "    aurocs.append(roc_auc_score(labels, logits))\n",
    "    adv_losses.append(adv_loss)\n",
    "        \n",
    "print('Done with pretraining')\n",
    "\n",
    "# now run the training steps, and plot the fake and real data\n",
    "for i in range(N_STEPS):\n",
    "\n",
    "    # run the computation (discriminator, generator, performance monitoring)\n",
    "    for _ in range(20):\n",
    "        env.train_adversary(BATCH_SIZE)\n",
    "    env.train_generator(BATCH_SIZE)\n",
    "    \n",
    "    # get analytics\n",
    "    to_run = [env.adversary.labels,\n",
    "              env.adversary.logits,\n",
    "              env.adversary.loss]   \n",
    "    labels, logits, adv_loss = env.run(BATCH_SIZE, *to_run)\n",
    "    \n",
    "    # plot only ten times\n",
    "    aurocs.append(roc_auc_score(labels, logits))\n",
    "    adv_losses.append(adv_loss)\n",
    "    do_plot = (i in [n* int(N_STEPS/N_DRAW) for n in range(N_DRAW)]) or (i == N_STEPS-1)\n",
    "\n",
    "    if do_plot:\n",
    "        print('Training step {}/{}'.format(i, N_STEPS))\n",
    "        [fake_data] = env.run(TEST_SIZE, env.generator.output)\n",
    "        fig, ax = plt.subplots(1, 2, figsize=(10, 5))\n",
    "        plot.data1D(ax[0], generate_data(TEST_SIZE), fake_data.ravel())\n",
    "        plot.roc_curve(ax[1], labels[:,1], logits[:,1])\n",
    "        plt.show()\n",
    "    \n",
    "print('Done with training')"
   ]
  },
  {
   "cell_type": "code",
   "execution_count": null,
   "metadata": {},
   "outputs": [],
   "source": [
    "nplots=2\n",
    "fig, ax = plt.subplots(1, nplots, sharex=True, figsize=(nplots*6, 5))\n",
    "ax[0].plot(range(len(aurocs)), aurocs, c='r')\n",
    "ax[0].set_xlabel('Training steps')\n",
    "ax[0].set_ylabel('AUROC')\n",
    "ax[1].plot(range(len(adv_losses)), adv_losses, c='g')\n",
    "ax[1].set_xlabel('Training steps')\n",
    "ax[1].set_ylabel('Adversary loss')\n",
    "plt.show()"
   ]
  },
  {
   "cell_type": "code",
   "execution_count": null,
   "metadata": {
    "scrolled": false
   },
   "outputs": [],
   "source": [
    "LARGE = 1000000\n",
    "fake_data = env.run(LARGE, env.generator.output)[0]\n",
    "real_data = generate_data(LARGE)\n",
    "\n",
    "fig, ax = plt.subplots(2, 1, figsize=(5, 5), gridspec_kw={'height_ratios':[3,1]})\n",
    "plot.data1D(ax[0], real_data.ravel(), fake_data.ravel())\n",
    "plot.ratio1D(ax[1], real_data.ravel(), fake_data.ravel())\n",
    "plt.savefig('Test_{}.png'.format(generate_data.__name__))\n",
    "plt.show()\n",
    "\n"
   ]
  }
 ],
 "metadata": {
  "kernelspec": {
   "display_name": "Python (make-GANs-not-guns)",
   "language": "python",
   "name": "make-gans-not-guns"
  },
  "language_info": {
   "codemirror_mode": {
    "name": "ipython",
    "version": 3
   },
   "file_extension": ".py",
   "mimetype": "text/x-python",
   "name": "python",
   "nbconvert_exporter": "python",
   "pygments_lexer": "ipython3",
   "version": "3.6.0"
  }
 },
 "nbformat": 4,
 "nbformat_minor": 2
}
