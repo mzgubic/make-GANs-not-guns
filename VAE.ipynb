{
 "cells": [
  {
   "cell_type": "code",
   "execution_count": 246,
   "metadata": {},
   "outputs": [],
   "source": [
    "import numpy as np\n",
    "import matplotlib.pyplot as plt\n",
    "import tensorflow as tf\n",
    "from tensorflow import keras\n",
    "from tensorflow.keras import datasets, layers, models\n",
    "\n",
    "from IPython.core.interactiveshell import InteractiveShell\n",
    "InteractiveShell.ast_node_interactivity = \"all\""
   ]
  },
  {
   "cell_type": "markdown",
   "metadata": {},
   "source": [
    "# Load the data"
   ]
  },
  {
   "cell_type": "code",
   "execution_count": 2,
   "metadata": {
    "scrolled": false
   },
   "outputs": [
    {
     "data": {
      "text/plain": [
       "<matplotlib.image.AxesImage at 0x13575bda0>"
      ]
     },
     "execution_count": 2,
     "metadata": {},
     "output_type": "execute_result"
    },
    {
     "data": {
      "image/png": "[encoded data removed]",
      "text/plain": [
       "<Figure size 288x288 with 1 Axes>"
      ]
     },
     "metadata": {
      "needs_background": "light"
     },
     "output_type": "display_data"
    }
   ],
   "source": [
    "\n",
    "(x_train, y_train), (x_test, y_test) = datasets.mnist.load_data()\n",
    "\n",
    "x_train = x_train.reshape(60000, 28, 28)\n",
    "x_test = x_test.reshape(10000, 28, 28)\n",
    "x_train = x_train.astype('float32')\n",
    "x_test = x_test.astype('float32')\n",
    "x_train /= 255\n",
    "x_test /= 255\n",
    "\n",
    "# convert class vectors to binary class matrices\n",
    "y_train = keras.utils.to_categorical(y_train, num_classes=10)\n",
    "y_test = keras.utils.to_categorical(y_test, num_classes=10)\n",
    "\n",
    "for i in range(1):\n",
    "    fig, ax = plt.subplots(figsize=(4,4))\n",
    "    ax.imshow(x_train[i])\n",
    "    plt.show()\n"
   ]
  },
  {
   "cell_type": "markdown",
   "metadata": {},
   "source": [
    "# Build a classification model"
   ]
  },
  {
   "cell_type": "code",
   "execution_count": 16,
   "metadata": {},
   "outputs": [
    {
     "name": "stdout",
     "output_type": "stream",
     "text": [
      "Model: \"sequential_7\"\n",
      "_________________________________________________________________\n",
      "Layer (type)                 Output Shape              Param #   \n",
      "=================================================================\n",
      "reshape_8 (Reshape)          (None, 784)               0         \n",
      "_________________________________________________________________\n",
      "dense_12 (Dense)             (None, 64)                50240     \n",
      "_________________________________________________________________\n",
      "dense_13 (Dense)             (None, 32)                2080      \n",
      "_________________________________________________________________\n",
      "dense_14 (Dense)             (None, 10)                330       \n",
      "=================================================================\n",
      "Total params: 52,650\n",
      "Trainable params: 52,650\n",
      "Non-trainable params: 0\n",
      "_________________________________________________________________\n"
     ]
    }
   ],
   "source": [
    "# sequential model\n",
    "model = keras.Sequential()\n",
    "model.add(layers.Input(shape=(28,28), name='MNIST_image'))\n",
    "model.add(layers.Reshape(target_shape=(28*28,)))\n",
    "model.add(layers.Dense(64, activation='relu'))\n",
    "model.add(layers.Dense(32, activation='relu'))\n",
    "model.add(layers.Dense(10, activation='softmax'))\n",
    "\n",
    "model.summary()\n",
    "\n",
    "model.compile(optimizer='adam',\n",
    "              loss='categorical_crossentropy',\n",
    "              metrics=['accuracy'])\n",
    "\n"
   ]
  },
  {
   "cell_type": "code",
   "execution_count": 17,
   "metadata": {},
   "outputs": [
    {
     "name": "stdout",
     "output_type": "stream",
     "text": [
      "60000/60000 [==============================] - 2s 41us/sample - loss: 0.2937 - acc: 0.9144\n"
     ]
    },
    {
     "data": {
      "text/plain": [
       "<tensorflow.python.keras.callbacks.History at 0x14a31fa20>"
      ]
     },
     "execution_count": 17,
     "metadata": {},
     "output_type": "execute_result"
    },
    {
     "name": "stdout",
     "output_type": "stream",
     "text": [
      "10000/10000 [==============================] - 0s 25us/sample - loss: 0.1660 - acc: 0.9487\n"
     ]
    },
    {
     "data": {
      "text/plain": [
       "[0.16601060590595007, 0.9487]"
      ]
     },
     "execution_count": 17,
     "metadata": {},
     "output_type": "execute_result"
    }
   ],
   "source": [
    "model.fit(x_train, y_train, epochs=1)\n",
    "model.evaluate(x_test, y_test)"
   ]
  },
  {
   "cell_type": "code",
   "execution_count": 19,
   "metadata": {},
   "outputs": [
    {
     "name": "stdout",
     "output_type": "stream",
     "text": [
      "Model: \"mnist_fAPI_model\"\n",
      "_________________________________________________________________\n",
      "Layer (type)                 Output Shape              Param #   \n",
      "=================================================================\n",
      "MNIST_image (InputLayer)     [(None, 28, 28)]          0         \n",
      "_________________________________________________________________\n",
      "reshape_10 (Reshape)         (None, 784)               0         \n",
      "_________________________________________________________________\n",
      "dense_18 (Dense)             (None, 64)                50240     \n",
      "_________________________________________________________________\n",
      "dense_19 (Dense)             (None, 32)                2080      \n",
      "_________________________________________________________________\n",
      "dense_20 (Dense)             (None, 10)                330       \n",
      "=================================================================\n",
      "Total params: 52,650\n",
      "Trainable params: 52,650\n",
      "Non-trainable params: 0\n",
      "_________________________________________________________________\n",
      "60000/60000 [==============================] - 3s 52us/sample - loss: 0.2932 - acc: 0.9147\n"
     ]
    },
    {
     "data": {
      "text/plain": [
       "<tensorflow.python.keras.callbacks.History at 0x14cb3ecc0>"
      ]
     },
     "execution_count": 19,
     "metadata": {},
     "output_type": "execute_result"
    },
    {
     "name": "stdout",
     "output_type": "stream",
     "text": [
      "10000/10000 [==============================] - 0s 31us/sample - loss: 0.1526 - acc: 0.9533\n"
     ]
    },
    {
     "data": {
      "text/plain": [
       "[0.15255377225801348, 0.9533]"
      ]
     },
     "execution_count": 19,
     "metadata": {},
     "output_type": "execute_result"
    }
   ],
   "source": [
    "\n",
    "# functional API\n",
    "inputs = layers.Input(shape=(28,28), name='MNIST_image')\n",
    "x = layers.Reshape((28*28,))(inputs)\n",
    "x = layers.Dense(64, activation='relu')(x)\n",
    "x = layers.Dense(32, activation='relu')(x)\n",
    "outputs = layers.Dense(10, activation='softmax')(x)\n",
    "model_fAPI = keras.Model(inputs=inputs, outputs=outputs, name='mnist_fAPI_model')\n",
    "\n",
    "model_fAPI.summary()\n",
    "\n",
    "model_fAPI.compile(optimizer='adam',\n",
    "                  loss='categorical_crossentropy',\n",
    "                  metrics=['accuracy'])\n",
    "\n",
    "model_fAPI.fit(x_train, y_train, epochs=1)\n",
    "model_fAPI.evaluate(x_test, y_test)"
   ]
  },
  {
   "cell_type": "code",
   "execution_count": 23,
   "metadata": {
    "scrolled": false
   },
   "outputs": [],
   "source": [
    "def test_model(model):\n",
    "\n",
    "    print('Testing model {}'.format(model.name))\n",
    "    y_pred = model.predict(x_test)\n",
    "    flat_y_test = y_test.argmax(axis=1)\n",
    "    flat_y_pred = y_pred.argmax(axis=1)\n",
    "    \n",
    "    wrongs = 0\n",
    "    for i in range(len(x_test)):\n",
    "        pred = flat_y_pred[i]\n",
    "        true = flat_y_test[i]\n",
    "        if pred != true:\n",
    "            print('Example {}: True number {}, predicted {}'.format(i, true, pred))\n",
    "            fig, ax = plt.subplots()\n",
    "            ax.imshow(x_test[i].reshape(28,28))\n",
    "            plt.show()\n",
    "            # break\n",
    "            wrongs+=1\n",
    "            if wrongs > 2:\n",
    "                break\n",
    "            \n",
    "\n",
    "#test_model(model)\n",
    "#test_model(model_fAPI)"
   ]
  },
  {
   "cell_type": "markdown",
   "metadata": {},
   "source": [
    "# Build an autoencoder"
   ]
  },
  {
   "cell_type": "code",
   "execution_count": 238,
   "metadata": {
    "scrolled": false
   },
   "outputs": [
    {
     "name": "stdout",
     "output_type": "stream",
     "text": [
      "Model: \"autoencoder\"\n",
      "_________________________________________________________________\n",
      "Layer (type)                 Output Shape              Param #   \n",
      "=================================================================\n",
      "input_86 (InputLayer)        [(None, 28, 28)]          0         \n",
      "_________________________________________________________________\n",
      "encoder (Model)              (None, 32)                53376     \n",
      "_________________________________________________________________\n",
      "decoder (Model)              (None, 28, 28)            54128     \n",
      "=================================================================\n",
      "Total params: 107,504\n",
      "Trainable params: 107,504\n",
      "Non-trainable params: 0\n",
      "_________________________________________________________________\n",
      "Epoch 1/5\n",
      "60000/60000 [==============================] - 13s 213us/sample - loss: 0.3701 - acc: 0.8088\n",
      "Epoch 2/5\n",
      "60000/60000 [==============================] - 7s 113us/sample - loss: 0.3505 - acc: 0.8088\n",
      "Epoch 3/5\n",
      "60000/60000 [==============================] - 7s 115us/sample - loss: 0.3442 - acc: 0.8088\n",
      "Epoch 4/5\n",
      "60000/60000 [==============================] - 7s 117us/sample - loss: 0.3402 - acc: 0.8089\n",
      "Epoch 5/5\n",
      "60000/60000 [==============================] - 7s 111us/sample - loss: 0.3388 - acc: 0.8089\n"
     ]
    },
    {
     "data": {
      "text/plain": [
       "<tensorflow.python.keras.callbacks.History at 0x1760e2f98>"
      ]
     },
     "execution_count": 238,
     "metadata": {},
     "output_type": "execute_result"
    }
   ],
   "source": [
    "latent_dim = 32\n",
    "\n",
    "encoder_input = layers.Input(shape=(28,28))\n",
    "x = layers.Reshape((28*28,))(encoder_input)\n",
    "x = layers.Dense(64, activation='relu')(x)\n",
    "x = layers.Dense(32, activation='relu')(x)\n",
    "encoder_output = layers.Dense(latent_dim, activation='relu')(x)\n",
    "encoder_ae = keras.Model(inputs=encoder_input, outputs=encoder_output, name='encoder')\n",
    "\n",
    "#encoder.summary()\n",
    "\n",
    "decoder_input = layers.Input(shape=(latent_dim))\n",
    "x = layers.Dense(32, activation='relu')(decoder_input)\n",
    "x = layers.Dense(64, activation='relu')(x)\n",
    "x = layers.Dense(28*28, activation='relu')(x)\n",
    "x = layers.Reshape((28,28))(x)\n",
    "decoder_output = layers.Activation('softmax', name='softmax')(x)\n",
    "decoder_ae = keras.Model(inputs=decoder_input, outputs=decoder_output, name='decoder')\n",
    "\n",
    "#decoder.summary()\n",
    "\n",
    "autoencoder_input = layers.Input((28,28))\n",
    "z = encoder_ae(autoencoder_input)\n",
    "autoencoder_output = decoder_ae(z)\n",
    "autoencoder = keras.Model(inputs=autoencoder_input, outputs=autoencoder_output, name='autoencoder')\n",
    "\n",
    "autoencoder.summary()\n",
    "\n",
    "autoencoder.compile(optimizer='adam',\n",
    "              loss='binary_crossentropy',\n",
    "              metrics=['accuracy'])\n",
    "\n",
    "autoencoder.fit(x_train, x_train, epochs=5)"
   ]
  },
  {
   "cell_type": "code",
   "execution_count": 239,
   "metadata": {
    "scrolled": false
   },
   "outputs": [
    {
     "data": {
      "image/png": "[encoded data removed]",
      "text/plain": [
       "<Figure size 432x288 with 2 Axes>"
      ]
     },
     "metadata": {
      "needs_background": "light"
     },
     "output_type": "display_data"
    },
    {
     "data": {
      "image/png": "[encoded data removed]",
      "text/plain": [
       "<Figure size 432x288 with 2 Axes>"
      ]
     },
     "metadata": {
      "needs_background": "light"
     },
     "output_type": "display_data"
    },
    {
     "data": {
      "image/png": "[encoded data removed]",
      "text/plain": [
       "<Figure size 432x288 with 2 Axes>"
      ]
     },
     "metadata": {
      "needs_background": "light"
     },
     "output_type": "display_data"
    },
    {
     "data": {
      "image/png": "[encoded data removed]",
      "text/plain": [
       "<Figure size 432x288 with 2 Axes>"
      ]
     },
     "metadata": {
      "needs_background": "light"
     },
     "output_type": "display_data"
    }
   ],
   "source": [
    "def show_reco(enc, dec):\n",
    "    # now visualise\n",
    "    how_many = 4\n",
    "    latent = enc.predict(x_train[:how_many])\n",
    "    reco = dec.predict(latent)\n",
    "    for i in range(how_many):\n",
    "        fig, ax = plt.subplots(1, 2)\n",
    "        ax[0].imshow(x_train[i])\n",
    "        ax[1].imshow(reco[i])\n",
    "        plt.show()\n",
    "        \n",
    "def check_latent_space(enc, dec, x, y, from_nb=0, to_nb=1, how_many=5, show_avg=False):\n",
    "    \n",
    "    # determine the average latent space repr of number\n",
    "    avgz = {}\n",
    "    if show_avg:\n",
    "        fig, ax = plt.subplots(1, 10, figsize=(20, 5))\n",
    "        \n",
    "    for nb in range(10):\n",
    "        flaty = np.argmax(y, axis=1)\n",
    "        x1 = x[flaty==nb]\n",
    "        try:\n",
    "            z1, _ = enc.predict(x1)\n",
    "        except:\n",
    "            z1 = enc.predict(x1)\n",
    "        avgz[nb] = np.average(z1, axis=0)\n",
    "    \n",
    "        if show_avg:\n",
    "            avg_image = dec.predict(avgz[nb].reshape(1, -1))[0]\n",
    "            ax[nb].imshow(avg_image)\n",
    "    if show_avg:\n",
    "        plt.show()\n",
    "    \n",
    "    # go from 0 to 1 smoothly in latent space\n",
    "    all_digits = np.zeros(shape=(how_many, latent_dim))\n",
    "    for d in range(latent_dim):\n",
    "        dim = np.linspace(avgz[from_nb][d], avgz[to_nb][d], how_many)\n",
    "        all_digits[:, d] = dim\n",
    "    \n",
    "    # plot the smooth ones in latent space\n",
    "    all_images = dec.predict(all_digits)\n",
    "    fig, ax = plt.subplots(1, how_many, figsize=(20, 5))\n",
    "    for i in range(how_many):\n",
    "        image = all_images[i]\n",
    "        ax[i].imshow(image)\n",
    "    plt.show()\n",
    "\n",
    "show_reco(encoder_ae, decoder_ae)"
   ]
  },
  {
   "cell_type": "markdown",
   "metadata": {},
   "source": [
    "# Build a VAE"
   ]
  },
  {
   "cell_type": "code",
   "execution_count": 242,
   "metadata": {
    "scrolled": false
   },
   "outputs": [
    {
     "name": "stdout",
     "output_type": "stream",
     "text": [
      "Model: \"vae\"\n",
      "____________________________________________________________________________________________________________________\n",
      "Layer (type)                          Output Shape             Param #       Connected to                           \n",
      "====================================================================================================================\n",
      "image (InputLayer)                    [(None, 28, 28)]         0                                                    \n",
      "____________________________________________________________________________________________________________________\n",
      "encoder (Model)                       [(None, 32), (None, 32)] 108736        image[0][0]                            \n",
      "____________________________________________________________________________________________________________________\n",
      "tf_op_layer_Exp_37 (TensorFlowOpLayer [(None, 32)]             0             encoder[1][1]                          \n",
      "____________________________________________________________________________________________________________________\n",
      "random_normal (InputLayer)            [(None, 32)]             0                                                    \n",
      "____________________________________________________________________________________________________________________\n",
      "tf_op_layer_mul_43 (TensorFlowOpLayer [(None, 32)]             0             tf_op_layer_Exp_37[0][0]               \n",
      "                                                                             random_normal[0][0]                    \n",
      "____________________________________________________________________________________________________________________\n",
      "latent_space (Add)                    (None, 32)               0             encoder[1][0]                          \n",
      "                                                                             tf_op_layer_mul_43[0][0]               \n",
      "____________________________________________________________________________________________________________________\n",
      "decoder (Model)                       (None, 28, 28)           105360        latent_space[0][0]                     \n",
      "====================================================================================================================\n",
      "Total params: 214,096\n",
      "Trainable params: 214,096\n",
      "Non-trainable params: 0\n",
      "____________________________________________________________________________________________________________________\n",
      "Epoch 1/5\n",
      "60000/60000 [==============================] - 14s 231us/sample - loss: -2.1061 - latent_space_loss: -2.8334 - decoder_loss: 0.7273\n",
      "Epoch 2/5\n",
      "60000/60000 [==============================] - 7s 117us/sample - loss: -2.1510 - latent_space_loss: -2.8379 - decoder_loss: 0.6869\n",
      "Epoch 3/5\n",
      "60000/60000 [==============================] - 7s 117us/sample - loss: -2.1589 - latent_space_loss: -2.8382 - decoder_loss: 0.6793\n",
      "Epoch 4/5\n",
      "60000/60000 [==============================] - 7s 119us/sample - loss: -2.1624 - latent_space_loss: -2.8376 - decoder_loss: 0.6752\n",
      "Epoch 5/5\n",
      "60000/60000 [==============================] - 7s 116us/sample - loss: -2.1647 - latent_space_loss: -2.8375 - decoder_loss: 0.6728\n"
     ]
    },
    {
     "data": {
      "text/plain": [
       "<tensorflow.python.keras.callbacks.History at 0x1653c79e8>"
      ]
     },
     "execution_count": 242,
     "metadata": {},
     "output_type": "execute_result"
    }
   ],
   "source": [
    "latent_dim = 32\n",
    "\n",
    "encoder_input = layers.Input(shape=(28,28), name='image')\n",
    "x = layers.Reshape((28*28,))(encoder_input)\n",
    "x = layers.Dense(128, activation='relu')(x)\n",
    "mu = layers.Dense(latent_dim, activation='linear', name='mu')(x)\n",
    "log_var = layers.Dense(latent_dim, activation='exponential', name='log_var')(x)\n",
    "#x = layers.Concatenate(name='concatenate')([mu, log_var])\n",
    "#encoder_output = layers.Reshape(target_shape=(latent_dim, 2), name='encoder_output')(x)\n",
    "encoder = keras.Model(inputs=encoder_input, outputs=[mu, log_var], name='encoder')\n",
    "\n",
    "#encoder.summary()\n",
    "\n",
    "decoder_input = layers.Input(shape=(latent_dim), name='latent_space')\n",
    "x = layers.Dense(128, activation='relu')(decoder_input)\n",
    "x = layers.Dense(28**2, activation='softmax')(x)\n",
    "decoder_output = layers.Reshape((28,28), name='reco_image')(x)\n",
    "decoder = keras.Model(inputs=decoder_input, outputs=decoder_output, name='decoder')\n",
    "\n",
    "#decoder.summary()\n",
    "\n",
    "vae_input = layers.Input((28,28), name='image')\n",
    "mu, log_var = encoder(vae_input)\n",
    "normal = layers.Input(shape=(latent_dim,), name='random_normal')\n",
    "z = layers.Add(name='latent_space')([mu, keras.backend.exp(log_var) * normal])\n",
    "reco_image = decoder(z)\n",
    "vae = keras.Model(inputs=[vae_input, normal], outputs=[z, reco_image], name='vae')\n",
    "\n",
    "vae.summary(line_length=116)\n",
    "\n",
    "vae.compile(optimizer='adam',\n",
    "            loss={'latent_space':'kullback_leibler_divergence',\n",
    "                  'decoder':'binary_crossentropy'})\n",
    "\n",
    "random_normal = np.random.normal(size=(x_train.shape[0], latent_dim))\n",
    "vae.fit({'image':x_train, 'random_normal':random_normal},\n",
    "        {'latent_space':random_normal, 'decoder':x_train},\n",
    "        epochs=5)\n"
   ]
  },
  {
   "cell_type": "code",
   "execution_count": 243,
   "metadata": {
    "scrolled": false
   },
   "outputs": [
    {
     "data": {
      "image/png": "[encoded data removed]",
      "text/plain": [
       "<Figure size 432x288 with 2 Axes>"
      ]
     },
     "metadata": {
      "needs_background": "light"
     },
     "output_type": "display_data"
    },
    {
     "data": {
      "image/png": "[encoded data removed]",
      "text/plain": [
       "<Figure size 432x288 with 2 Axes>"
      ]
     },
     "metadata": {
      "needs_background": "light"
     },
     "output_type": "display_data"
    },
    {
     "data": {
      "image/png": "[encoded data removed]",
      "text/plain": [
       "<Figure size 432x288 with 2 Axes>"
      ]
     },
     "metadata": {
      "needs_background": "light"
     },
     "output_type": "display_data"
    },
    {
     "data": {
      "image/png": "[encoded data removed]",
      "text/plain": [
       "<Figure size 432x288 with 2 Axes>"
      ]
     },
     "metadata": {
      "needs_background": "light"
     },
     "output_type": "display_data"
    },
    {
     "data": {
      "image/png": "[encoded data removed]",
      "text/plain": [
       "<Figure size 1440x360 with 10 Axes>"
      ]
     },
     "metadata": {
      "needs_background": "light"
     },
     "output_type": "display_data"
    },
    {
     "data": {
      "image/png": "[encoded data removed]",
      "text/plain": [
       "<Figure size 1440x360 with 5 Axes>"
      ]
     },
     "metadata": {
      "needs_background": "light"
     },
     "output_type": "display_data"
    }
   ],
   "source": [
    "show_reco(encoder, decoder)\n",
    "#check_latent_space(encoder_ae, decoder_ae, x_test, y_test, from_nb=1, to_nb=2, show_avg=True)\n",
    "check_latent_space(encoder, decoder, x_test, y_test, from_nb=1, to_nb=2, show_avg=True)"
   ]
  },
  {
   "cell_type": "code",
   "execution_count": null,
   "metadata": {},
   "outputs": [],
   "source": []
  }
 ],
 "metadata": {
  "kernelspec": {
   "display_name": "Python (make-GANs-not-guns)",
   "language": "python",
   "name": "make-gans-not-guns"
  },
  "language_info": {
   "codemirror_mode": {
    "name": "ipython",
    "version": 3
   },
   "file_extension": ".py",
   "mimetype": "text/x-python",
   "name": "python",
   "nbconvert_exporter": "python",
   "pygments_lexer": "ipython3",
   "version": "3.6.0"
  }
 },
 "nbformat": 4,
 "nbformat_minor": 2
}
